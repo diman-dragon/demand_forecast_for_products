{
 "cells": [
  {
   "cell_type": "code",
   "execution_count": 1,
   "metadata": {},
   "outputs": [
    {
     "name": "stderr",
     "output_type": "stream",
     "text": [
      "C:\\Users\\14488\\AppData\\Local\\Packages\\PythonSoftwareFoundation.Python.3.11_qbz5n2kfra8p0\\LocalCache\\local-packages\\Python311\\site-packages\\tqdm\\auto.py:21: TqdmWarning: IProgress not found. Please update jupyter and ipywidgets. See https://ipywidgets.readthedocs.io/en/stable/user_install.html\n",
      "  from .autonotebook import tqdm as notebook_tqdm\n"
     ]
    }
   ],
   "source": [
    "import pandas as pd\n",
    "import numpy as np\n",
    "from datetime import date\n",
    "import holidays\n",
    "from prophet import Prophet\n",
    "\n",
    "import datetime\n",
    "from datetime import timedelta\n",
    "from statsmodels.tsa.seasonal import seasonal_decompose\n",
    "from matplotlib import pyplot as plt\n",
    "\n",
    "from sklearn.linear_model import LinearRegression\n",
    "from sklearn.ensemble import RandomForestRegressor\n",
    "from catboost import CatBoostRegressor\n",
    "\n",
    "\n",
    "from lightgbm import LGBMRegressor\n",
    "from sklearn.ensemble import GradientBoostingRegressor\n",
    "\n",
    "from sklearn.model_selection import train_test_split, TimeSeriesSplit, cross_val_score, GridSearchCV\n",
    "\n",
    "tscv = TimeSeriesSplit(n_splits=5)\n",
    "state = np.random.RandomState(12345)"
   ]
  },
  {
   "cell_type": "code",
   "execution_count": 2,
   "metadata": {},
   "outputs": [],
   "source": [
    "# Вкидываем праздники, для их учёта моделькой\n",
    "holidays_dict = holidays.RUS(years=(2022, 2023))\n",
    "df_holidays = pd.DataFrame.from_dict(holidays_dict, orient='index') \\\n",
    "    .reset_index()\n",
    "df_holidays = df_holidays.rename({'index':'ds', 0:'holiday'}, axis ='columns')\n",
    "df_holidays['ds'] = pd.to_datetime(df_holidays.ds)\n",
    "df_holidays = df_holidays.sort_values(by=['ds'])\n",
    "df_holidays = df_holidays.reset_index(drop=True)"
   ]
  },
  {
   "cell_type": "code",
   "execution_count": 3,
   "metadata": {},
   "outputs": [],
   "source": [
    "pr_df = pd.read_csv('D:\\data_science\\demand_forecast_for_products\\sp_sales_task\\pr_df.csv')\n",
    "sales_df = pd.read_csv('D:\\data_science\\demand_forecast_for_products\\sp_sales_task\\sales_df_train.csv')\n",
    "sales_submission = pd.read_csv('D:\\data_science\\demand_forecast_for_products\\sp_sales_task\\sales_submission.csv')\n",
    "st_df = pd.read_csv('D:\\data_science\\demand_forecast_for_products\\sp_sales_task\\st_df.csv')"
   ]
  },
  {
   "cell_type": "code",
   "execution_count": 4,
   "metadata": {},
   "outputs": [],
   "source": [
    "# Соединяем все таблицы\n",
    "df_1 = pd.merge(sales_df, st_df, how='left', left_on='st_id', right_on='st_id')\n",
    "df = pd.merge(df_1, pr_df, how='left', left_on='pr_sku_id', right_on='pr_sku_id')"
   ]
  },
  {
   "cell_type": "code",
   "execution_count": 5,
   "metadata": {},
   "outputs": [],
   "source": [
    "df = df.rename(columns = {'pr_sales_in_rub' : 'y'})\n",
    "df['ds'] = pd.to_datetime(df['date'])"
   ]
  },
  {
   "cell_type": "code",
   "execution_count": 6,
   "metadata": {},
   "outputs": [],
   "source": [
    "df['fe_st_id'] = df['st_id'].map(df['st_id'].value_counts(normalize=False))\n",
    "df['fe_pr_sku_id'] = df['pr_sku_id'].map(df['pr_sku_id'].value_counts(normalize=False))\n",
    "df['fe_st_city_id'] = df['st_city_id'].map(df['st_city_id'].value_counts(normalize=False))\n",
    "df['fe_st_division_code'] = df['st_division_code'].map(df['st_division_code'].value_counts(normalize=False))\n",
    "df['fe_pr_group_id'] = df['pr_group_id'].map(df['pr_group_id'].value_counts(normalize=False))\n",
    "df['fe_pr_cat_id'] = df['pr_cat_id'].map(df['pr_cat_id'].value_counts(normalize=False))\n",
    "df['fe_pr_subcat_id'] = df['pr_subcat_id'].map(df['pr_subcat_id'].value_counts(normalize=False))"
   ]
  },
  {
   "cell_type": "code",
   "execution_count": 7,
   "metadata": {},
   "outputs": [],
   "source": [
    "df = df.drop(['st_id', 'pr_sku_id', 'st_city_id',\n",
    "              'st_division_code', 'pr_group_id',\n",
    "                  'pr_cat_id', 'pr_subcat_id',\n",
    "                  'pr_promo_sales_in_units',\n",
    "                   'pr_promo_sales_in_rub', 'date'], axis=1)"
   ]
  },
  {
   "cell_type": "code",
   "execution_count": 8,
   "metadata": {},
   "outputs": [],
   "source": [
    "date_lag = 15\n",
    "predictions_period = df['ds'].max() - timedelta(date_lag)\n",
    "train = df.loc[df['ds'] < predictions_period]\n",
    "test = df.loc[df['ds'] >= predictions_period]"
   ]
  },
  {
   "cell_type": "code",
   "execution_count": 9,
   "metadata": {},
   "outputs": [
    {
     "name": "stdout",
     "output_type": "stream",
     "text": [
      "2023-07-02 00:00:00\n",
      "2022-08-01 00:00:00\n",
      "2023-07-18 00:00:00\n",
      "2023-07-03 00:00:00\n"
     ]
    }
   ],
   "source": [
    "print(train['ds'].max())\n",
    "print(train['ds'].min())\n",
    "print(test['ds'].max())\n",
    "print(test['ds'].min())"
   ]
  },
  {
   "cell_type": "code",
   "execution_count": 10,
   "metadata": {},
   "outputs": [],
   "source": [
    "X_train = train.drop(['y', 'ds'], axis=1)\n",
    "y_train = train['y']"
   ]
  },
  {
   "cell_type": "code",
   "execution_count": 11,
   "metadata": {},
   "outputs": [],
   "source": [
    "model_cbr = CatBoostRegressor().fit(X_train, y_train, verbose=False)"
   ]
  },
  {
   "cell_type": "code",
   "execution_count": 12,
   "metadata": {},
   "outputs": [],
   "source": [
    "a = set(test['fe_st_id'])\n",
    "b = set(test['fe_pr_sku_id'])"
   ]
  },
  {
   "cell_type": "code",
   "execution_count": 13,
   "metadata": {},
   "outputs": [
    {
     "name": "stderr",
     "output_type": "stream",
     "text": [
      "<timed exec>:20: FutureWarning: The behavior of DataFrame concatenation with empty or all-NA entries is deprecated. In a future version, this will no longer exclude empty or all-NA columns when determining the result dtypes. To retain the old behavior, exclude the relevant entries before the concat operation.\n"
     ]
    },
    {
     "name": "stdout",
     "output_type": "stream",
     "text": [
      "CPU times: total: 11.5 s\n",
      "Wall time: 25.7 s\n"
     ]
    }
   ],
   "source": [
    "%%time\n",
    "sales_submission_test = pd.DataFrame(columns=['st_id', 'pr_sku_id', 'date'])\n",
    "for i in a:\n",
    "    for j in b:\n",
    "        test_pred = test[(test['fe_st_id'] == i) & (test['fe_pr_sku_id'] == j)]\n",
    "       \n",
    "        df_1 = pd.DataFrame(columns=['st_id', 'pr_sku_id', 'date', 'y'])\n",
    "\n",
    "        date_lag = 15\n",
    "        predictions_period = test_pred['ds'].max() - timedelta(date_lag)\n",
    "        train_1 = test_pred.loc[test_pred['ds'] < predictions_period]\n",
    "        test_1 = test_pred.loc[test_pred['ds'] >= predictions_period]\n",
    "\n",
    "        df_1['st_id'], df_1['pr_sku_id'], df_1['date'], df_1['y'] = \\\n",
    "            test_pred['fe_st_id'], test_pred['fe_pr_sku_id'], test_pred['ds'], test_pred['y']\n",
    "       \n",
    "        X_test = test_pred.drop(['y', 'ds'], axis=1)\n",
    "\n",
    "        df_1['target'] = model_cbr.predict(X_test)\n",
    "\n",
    "        sales_submission_test = pd.concat([sales_submission_test, df_1], ignore_index=False)"
   ]
  },
  {
   "cell_type": "code",
   "execution_count": 14,
   "metadata": {},
   "outputs": [
    {
     "data": {
      "text/html": [
       "<div>\n",
       "<style scoped>\n",
       "    .dataframe tbody tr th:only-of-type {\n",
       "        vertical-align: middle;\n",
       "    }\n",
       "\n",
       "    .dataframe tbody tr th {\n",
       "        vertical-align: top;\n",
       "    }\n",
       "\n",
       "    .dataframe thead th {\n",
       "        text-align: right;\n",
       "    }\n",
       "</style>\n",
       "<table border=\"1\" class=\"dataframe\">\n",
       "  <thead>\n",
       "    <tr style=\"text-align: right;\">\n",
       "      <th></th>\n",
       "      <th>st_id</th>\n",
       "      <th>pr_sku_id</th>\n",
       "      <th>y</th>\n",
       "      <th>target</th>\n",
       "    </tr>\n",
       "    <tr>\n",
       "      <th>date</th>\n",
       "      <th></th>\n",
       "      <th></th>\n",
       "      <th></th>\n",
       "      <th></th>\n",
       "    </tr>\n",
       "  </thead>\n",
       "  <tbody>\n",
       "    <tr>\n",
       "      <th>2023-07-03</th>\n",
       "      <td>2451</td>\n",
       "      <td>2451</td>\n",
       "      <td>2451</td>\n",
       "      <td>2451</td>\n",
       "    </tr>\n",
       "    <tr>\n",
       "      <th>2023-07-04</th>\n",
       "      <td>2448</td>\n",
       "      <td>2448</td>\n",
       "      <td>2448</td>\n",
       "      <td>2448</td>\n",
       "    </tr>\n",
       "    <tr>\n",
       "      <th>2023-07-05</th>\n",
       "      <td>2529</td>\n",
       "      <td>2529</td>\n",
       "      <td>2529</td>\n",
       "      <td>2529</td>\n",
       "    </tr>\n",
       "    <tr>\n",
       "      <th>2023-07-06</th>\n",
       "      <td>2666</td>\n",
       "      <td>2666</td>\n",
       "      <td>2666</td>\n",
       "      <td>2666</td>\n",
       "    </tr>\n",
       "    <tr>\n",
       "      <th>2023-07-07</th>\n",
       "      <td>2983</td>\n",
       "      <td>2983</td>\n",
       "      <td>2983</td>\n",
       "      <td>2983</td>\n",
       "    </tr>\n",
       "    <tr>\n",
       "      <th>2023-07-08</th>\n",
       "      <td>2869</td>\n",
       "      <td>2869</td>\n",
       "      <td>2869</td>\n",
       "      <td>2869</td>\n",
       "    </tr>\n",
       "    <tr>\n",
       "      <th>2023-07-09</th>\n",
       "      <td>2625</td>\n",
       "      <td>2625</td>\n",
       "      <td>2625</td>\n",
       "      <td>2625</td>\n",
       "    </tr>\n",
       "    <tr>\n",
       "      <th>2023-07-10</th>\n",
       "      <td>2432</td>\n",
       "      <td>2432</td>\n",
       "      <td>2432</td>\n",
       "      <td>2432</td>\n",
       "    </tr>\n",
       "    <tr>\n",
       "      <th>2023-07-11</th>\n",
       "      <td>2513</td>\n",
       "      <td>2513</td>\n",
       "      <td>2513</td>\n",
       "      <td>2513</td>\n",
       "    </tr>\n",
       "    <tr>\n",
       "      <th>2023-07-12</th>\n",
       "      <td>2525</td>\n",
       "      <td>2525</td>\n",
       "      <td>2525</td>\n",
       "      <td>2525</td>\n",
       "    </tr>\n",
       "    <tr>\n",
       "      <th>2023-07-13</th>\n",
       "      <td>2644</td>\n",
       "      <td>2644</td>\n",
       "      <td>2644</td>\n",
       "      <td>2644</td>\n",
       "    </tr>\n",
       "    <tr>\n",
       "      <th>2023-07-14</th>\n",
       "      <td>2882</td>\n",
       "      <td>2882</td>\n",
       "      <td>2882</td>\n",
       "      <td>2882</td>\n",
       "    </tr>\n",
       "    <tr>\n",
       "      <th>2023-07-15</th>\n",
       "      <td>2809</td>\n",
       "      <td>2809</td>\n",
       "      <td>2809</td>\n",
       "      <td>2809</td>\n",
       "    </tr>\n",
       "    <tr>\n",
       "      <th>2023-07-16</th>\n",
       "      <td>2646</td>\n",
       "      <td>2646</td>\n",
       "      <td>2646</td>\n",
       "      <td>2646</td>\n",
       "    </tr>\n",
       "    <tr>\n",
       "      <th>2023-07-17</th>\n",
       "      <td>2375</td>\n",
       "      <td>2375</td>\n",
       "      <td>2375</td>\n",
       "      <td>2375</td>\n",
       "    </tr>\n",
       "    <tr>\n",
       "      <th>2023-07-18</th>\n",
       "      <td>2384</td>\n",
       "      <td>2384</td>\n",
       "      <td>2384</td>\n",
       "      <td>2384</td>\n",
       "    </tr>\n",
       "  </tbody>\n",
       "</table>\n",
       "</div>"
      ],
      "text/plain": [
       "            st_id  pr_sku_id     y  target\n",
       "date                                      \n",
       "2023-07-03   2451       2451  2451    2451\n",
       "2023-07-04   2448       2448  2448    2448\n",
       "2023-07-05   2529       2529  2529    2529\n",
       "2023-07-06   2666       2666  2666    2666\n",
       "2023-07-07   2983       2983  2983    2983\n",
       "2023-07-08   2869       2869  2869    2869\n",
       "2023-07-09   2625       2625  2625    2625\n",
       "2023-07-10   2432       2432  2432    2432\n",
       "2023-07-11   2513       2513  2513    2513\n",
       "2023-07-12   2525       2525  2525    2525\n",
       "2023-07-13   2644       2644  2644    2644\n",
       "2023-07-14   2882       2882  2882    2882\n",
       "2023-07-15   2809       2809  2809    2809\n",
       "2023-07-16   2646       2646  2646    2646\n",
       "2023-07-17   2375       2375  2375    2375\n",
       "2023-07-18   2384       2384  2384    2384"
      ]
     },
     "execution_count": 14,
     "metadata": {},
     "output_type": "execute_result"
    }
   ],
   "source": [
    "sales_submission_test.groupby('date').count()"
   ]
  },
  {
   "cell_type": "code",
   "execution_count": 15,
   "metadata": {},
   "outputs": [
    {
     "data": {
      "text/plain": [
       "15.501574987487423"
      ]
     },
     "execution_count": 15,
     "metadata": {},
     "output_type": "execute_result"
    }
   ],
   "source": [
    "# Вычисляем метрику\n",
    "wape = 100 * (sales_submission_test['y'] - sales_submission_test['target']).abs().sum() / sales_submission_test['y'].sum()\n",
    "wape"
   ]
  },
  {
   "cell_type": "code",
   "execution_count": 16,
   "metadata": {},
   "outputs": [
    {
     "data": {
      "text/html": [
       "<div>\n",
       "<style scoped>\n",
       "    .dataframe tbody tr th:only-of-type {\n",
       "        vertical-align: middle;\n",
       "    }\n",
       "\n",
       "    .dataframe tbody tr th {\n",
       "        vertical-align: top;\n",
       "    }\n",
       "\n",
       "    .dataframe thead th {\n",
       "        text-align: right;\n",
       "    }\n",
       "</style>\n",
       "<table border=\"1\" class=\"dataframe\">\n",
       "  <thead>\n",
       "    <tr style=\"text-align: right;\">\n",
       "      <th></th>\n",
       "      <th>st_id</th>\n",
       "      <th>pr_sku_id</th>\n",
       "      <th>date</th>\n",
       "      <th>y</th>\n",
       "      <th>target</th>\n",
       "    </tr>\n",
       "  </thead>\n",
       "  <tbody>\n",
       "    <tr>\n",
       "      <th>0</th>\n",
       "      <td>157542</td>\n",
       "      <td>2049</td>\n",
       "      <td>2023-07-06</td>\n",
       "      <td>3094.0</td>\n",
       "      <td>3117.066570</td>\n",
       "    </tr>\n",
       "    <tr>\n",
       "      <th>1</th>\n",
       "      <td>157542</td>\n",
       "      <td>2049</td>\n",
       "      <td>2023-07-08</td>\n",
       "      <td>394.0</td>\n",
       "      <td>421.750576</td>\n",
       "    </tr>\n",
       "    <tr>\n",
       "      <th>2</th>\n",
       "      <td>157542</td>\n",
       "      <td>2049</td>\n",
       "      <td>2023-07-05</td>\n",
       "      <td>3311.0</td>\n",
       "      <td>3413.763146</td>\n",
       "    </tr>\n",
       "    <tr>\n",
       "      <th>3</th>\n",
       "      <td>157542</td>\n",
       "      <td>2049</td>\n",
       "      <td>2023-07-05</td>\n",
       "      <td>826.0</td>\n",
       "      <td>734.985074</td>\n",
       "    </tr>\n",
       "    <tr>\n",
       "      <th>4</th>\n",
       "      <td>157542</td>\n",
       "      <td>2049</td>\n",
       "      <td>2023-07-13</td>\n",
       "      <td>1047.0</td>\n",
       "      <td>980.680921</td>\n",
       "    </tr>\n",
       "    <tr>\n",
       "      <th>...</th>\n",
       "      <td>...</td>\n",
       "      <td>...</td>\n",
       "      <td>...</td>\n",
       "      <td>...</td>\n",
       "      <td>...</td>\n",
       "    </tr>\n",
       "    <tr>\n",
       "      <th>41776</th>\n",
       "      <td>174687</td>\n",
       "      <td>2047</td>\n",
       "      <td>2023-07-06</td>\n",
       "      <td>231.0</td>\n",
       "      <td>193.250107</td>\n",
       "    </tr>\n",
       "    <tr>\n",
       "      <th>41777</th>\n",
       "      <td>174687</td>\n",
       "      <td>2047</td>\n",
       "      <td>2023-07-15</td>\n",
       "      <td>360.0</td>\n",
       "      <td>264.882488</td>\n",
       "    </tr>\n",
       "    <tr>\n",
       "      <th>41778</th>\n",
       "      <td>174687</td>\n",
       "      <td>2047</td>\n",
       "      <td>2023-07-03</td>\n",
       "      <td>31.0</td>\n",
       "      <td>-4.443264</td>\n",
       "    </tr>\n",
       "    <tr>\n",
       "      <th>41779</th>\n",
       "      <td>174687</td>\n",
       "      <td>2047</td>\n",
       "      <td>2023-07-17</td>\n",
       "      <td>62.0</td>\n",
       "      <td>40.513275</td>\n",
       "    </tr>\n",
       "    <tr>\n",
       "      <th>41780</th>\n",
       "      <td>174687</td>\n",
       "      <td>2047</td>\n",
       "      <td>2023-07-12</td>\n",
       "      <td>360.0</td>\n",
       "      <td>264.882488</td>\n",
       "    </tr>\n",
       "  </tbody>\n",
       "</table>\n",
       "<p>41781 rows × 5 columns</p>\n",
       "</div>"
      ],
      "text/plain": [
       "        st_id pr_sku_id       date       y       target\n",
       "0      157542      2049 2023-07-06  3094.0  3117.066570\n",
       "1      157542      2049 2023-07-08   394.0   421.750576\n",
       "2      157542      2049 2023-07-05  3311.0  3413.763146\n",
       "3      157542      2049 2023-07-05   826.0   734.985074\n",
       "4      157542      2049 2023-07-13  1047.0   980.680921\n",
       "...       ...       ...        ...     ...          ...\n",
       "41776  174687      2047 2023-07-06   231.0   193.250107\n",
       "41777  174687      2047 2023-07-15   360.0   264.882488\n",
       "41778  174687      2047 2023-07-03    31.0    -4.443264\n",
       "41779  174687      2047 2023-07-17    62.0    40.513275\n",
       "41780  174687      2047 2023-07-12   360.0   264.882488\n",
       "\n",
       "[41781 rows x 5 columns]"
      ]
     },
     "execution_count": 16,
     "metadata": {},
     "output_type": "execute_result"
    }
   ],
   "source": [
    "sales_submission_test.reset_index(drop= True , inplace= True )\n",
    "sales_submission_test"
   ]
  },
  {
   "cell_type": "code",
   "execution_count": 17,
   "metadata": {},
   "outputs": [],
   "source": [
    "sales_submission = sales_submission_test.drop(['y'], axis=1)"
   ]
  },
  {
   "cell_type": "code",
   "execution_count": 18,
   "metadata": {},
   "outputs": [],
   "source": [
    "sales_submission.to_csv('sales_submission.csv')"
   ]
  },
  {
   "cell_type": "code",
   "execution_count": null,
   "metadata": {},
   "outputs": [],
   "source": []
  }
 ],
 "metadata": {
  "kernelspec": {
   "display_name": "Python 3",
   "language": "python",
   "name": "python3"
  },
  "language_info": {
   "codemirror_mode": {
    "name": "ipython",
    "version": 3
   },
   "file_extension": ".py",
   "mimetype": "text/x-python",
   "name": "python",
   "nbconvert_exporter": "python",
   "pygments_lexer": "ipython3",
   "version": "3.11.5"
  },
  "orig_nbformat": 4
 },
 "nbformat": 4,
 "nbformat_minor": 2
}
