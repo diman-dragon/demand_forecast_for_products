{
 "cells": [
  {
   "cell_type": "code",
   "execution_count": 1,
   "metadata": {},
   "outputs": [],
   "source": [
    "import pandas as pd\n",
    "from datetime import date\n",
    "\n",
    "import datetime\n",
    "from datetime import timedelta\n",
    "from sklearn.model_selection import train_test_split, TimeSeriesSplit, cross_val_score, GridSearchCV\n",
    "\n",
    "from sklearn.linear_model import LinearRegression\n",
    "from catboost import CatBoostRegressor\n",
    "from lightgbm import LGBMRegressor\n",
    "from prophet import Prophet"
   ]
  },
  {
   "cell_type": "markdown",
   "metadata": {},
   "source": [
    "Загрузка тренировочного датасета. В процессе разработки все подготовительные работы с датасетом сделаны в другом ноутбуке, здесь мы используем подготовленный датасет"
   ]
  },
  {
   "cell_type": "code",
   "execution_count": 2,
   "metadata": {},
   "outputs": [],
   "source": [
    "pr_df = pd.read_csv('D:\\data_science\\demand_forecast_for_products\\sp_sales_task\\pr_df.csv')\n",
    "sales_df = pd.read_csv('D:\\data_science\\demand_forecast_for_products\\sp_sales_task\\sales_df_train.csv')\n",
    "sales_submission = pd.read_csv('D:\\data_science\\demand_forecast_for_products\\sp_sales_task\\sales_submission.csv')\n",
    "st_df = pd.read_csv('D:\\data_science\\demand_forecast_for_products\\sp_sales_task\\st_df.csv')"
   ]
  },
  {
   "cell_type": "code",
   "execution_count": 3,
   "metadata": {},
   "outputs": [],
   "source": [
    "# Соединяем все таблицы\n",
    "df_1 = pd.merge(sales_df, st_df, how='left', left_on='st_id', right_on='st_id')\n",
    "df = pd.merge(df_1, pr_df, how='left', left_on='pr_sku_id', right_on='pr_sku_id')"
   ]
  },
  {
   "cell_type": "code",
   "execution_count": 4,
   "metadata": {},
   "outputs": [],
   "source": [
    "# Преобразуем хэш-признаки на основе частотности \n",
    "df['fe_st_id'] = df['st_id'].map(df['st_id'].value_counts(normalize=False))\n",
    "df['fe_pr_sku_id'] = df['pr_sku_id'].map(df['pr_sku_id'].value_counts(normalize=False))\n",
    "df['fe_st_city_id'] = df['st_city_id'].map(df['st_city_id'].value_counts(normalize=False))\n",
    "df['fe_st_division_code'] = df['st_division_code'].map(df['st_division_code'].value_counts(normalize=False))\n",
    "df['fe_pr_group_id'] = df['pr_group_id'].map(df['pr_group_id'].value_counts(normalize=False))\n",
    "df['fe_pr_cat_id'] = df['pr_cat_id'].map(df['pr_cat_id'].value_counts(normalize=False))\n",
    "df['fe_pr_subcat_id'] = df['pr_subcat_id'].map(df['pr_subcat_id'].value_counts(normalize=False))"
   ]
  },
  {
   "cell_type": "code",
   "execution_count": null,
   "metadata": {},
   "outputs": [],
   "source": []
  },
  {
   "cell_type": "code",
   "execution_count": 5,
   "metadata": {},
   "outputs": [],
   "source": [
    "df = df.rename(columns = {'pr_sales_in_rub' : 'y'})\n",
    "df['ds'] = pd.to_datetime(df['date'])"
   ]
  },
  {
   "cell_type": "code",
   "execution_count": 6,
   "metadata": {},
   "outputs": [],
   "source": [
    "df = df.drop(['st_id', 'pr_sku_id', 'st_city_id',\n",
    "              'st_division_code', 'pr_group_id',\n",
    "                  'pr_cat_id', 'pr_subcat_id',\n",
    "                  'pr_promo_sales_in_units',\n",
    "                   'pr_promo_sales_in_rub', 'date', 'pr_sales_in_units'], axis=1)"
   ]
  },
  {
   "cell_type": "markdown",
   "metadata": {},
   "source": [
    "Разделяем данные по времени на тренировочные и тестовые. "
   ]
  },
  {
   "cell_type": "code",
   "execution_count": 7,
   "metadata": {},
   "outputs": [],
   "source": [
    "date_lag = 15\n",
    "predictions_period = df['ds'].max() - timedelta(date_lag)\n",
    "train = df.loc[df['ds'] < predictions_period]\n",
    "test = df.loc[df['ds'] >= predictions_period]"
   ]
  },
  {
   "cell_type": "code",
   "execution_count": 8,
   "metadata": {},
   "outputs": [
    {
     "name": "stdout",
     "output_type": "stream",
     "text": [
      "Даты тренировочного датасета: с 2022-08-01 00:00:00 по: 2023-07-02 00:00:00\n",
      "Даты тренировочного датасета: с 2023-07-03 00:00:00 по: 2023-07-18 00:00:00\n"
     ]
    }
   ],
   "source": [
    "# Проверяем, что разделение прошло успешно\n",
    "print(\"Даты тренировочного датасета: с\", train['ds'].min(), \"по:\", train['ds'].max())\n",
    "print(\"Даты тренировочного датасета: с\", test['ds'].min(), \"по:\", test['ds'].max())"
   ]
  },
  {
   "cell_type": "code",
   "execution_count": 9,
   "metadata": {},
   "outputs": [],
   "source": [
    "# Создим признаки и целевые признаки.\n",
    "X_train = train.drop(['y', 'ds'], axis=1)\n",
    "y_train = train['y']"
   ]
  },
  {
   "cell_type": "code",
   "execution_count": 10,
   "metadata": {},
   "outputs": [],
   "source": [
    "# Перебор очень долгий. В связи с тем, что мы пока тестируем модели, используем дефолтные параметры.\n",
    "\n",
    "# %%time\n",
    "\n",
    "# # Попробуем изменить гиперпараметры. Будем использовать кросс-валидацию с использованием \n",
    "# # библиотеки TimeSeriesSplit, что исключит подглядывание \n",
    "# model_cbr_tune = CatBoostRegressor(loss_function='RMSE')\n",
    "# tscv = TimeSeriesSplit(n_splits=5)\n",
    "# parameters_cbr_tune = {'iterations': [1000],\n",
    "#         'learning_rate': [0.03],#, 0.1],\n",
    "#         'depth': [6],#, 8],\n",
    "#         'l2_leaf_reg': [1]#, 3]\n",
    "#               }\n",
    "# model_cbr_tune = GridSearchCV(model_cbr_tune, \n",
    "#                         parameters_cbr_tune, \n",
    "#                         cv = tscv, \n",
    "#                         n_jobs=-1,\n",
    "#                               scoring = 'neg_mean_squared_error',\n",
    "#                              verbose=True).fit(X_train, y_train, \n",
    "#                                                verbose=False, plot=True)\n"
   ]
  },
  {
   "cell_type": "markdown",
   "metadata": {},
   "source": [
    "Для корректного создания резолютирующего файла предсказания делаем по всем комбинациям магазин-товар. "
   ]
  },
  {
   "cell_type": "code",
   "execution_count": 11,
   "metadata": {},
   "outputs": [
    {
     "data": {
      "application/vnd.jupyter.widget-view+json": {
       "model_id": "1378a8ac6bd94a248adbc9c7017a4d3c",
       "version_major": 2,
       "version_minor": 0
      },
      "text/plain": [
       "MetricVisualizer(layout=Layout(align_self='stretch', height='500px'))"
      ]
     },
     "metadata": {},
     "output_type": "display_data"
    },
    {
     "data": {
      "text/html": [
       "<div>\n",
       "<style scoped>\n",
       "    .dataframe tbody tr th:only-of-type {\n",
       "        vertical-align: middle;\n",
       "    }\n",
       "\n",
       "    .dataframe tbody tr th {\n",
       "        vertical-align: top;\n",
       "    }\n",
       "\n",
       "    .dataframe thead th {\n",
       "        text-align: right;\n",
       "    }\n",
       "</style>\n",
       "<table border=\"1\" class=\"dataframe\">\n",
       "  <thead>\n",
       "    <tr style=\"text-align: right;\">\n",
       "      <th></th>\n",
       "      <th>Feature Id</th>\n",
       "      <th>Importances</th>\n",
       "    </tr>\n",
       "  </thead>\n",
       "  <tbody>\n",
       "    <tr>\n",
       "      <th>0</th>\n",
       "      <td>fe_pr_sku_id</td>\n",
       "      <td>27.990605</td>\n",
       "    </tr>\n",
       "    <tr>\n",
       "      <th>1</th>\n",
       "      <td>fe_pr_cat_id</td>\n",
       "      <td>21.522737</td>\n",
       "    </tr>\n",
       "    <tr>\n",
       "      <th>2</th>\n",
       "      <td>fe_pr_subcat_id</td>\n",
       "      <td>17.985495</td>\n",
       "    </tr>\n",
       "    <tr>\n",
       "      <th>3</th>\n",
       "      <td>fe_pr_group_id</td>\n",
       "      <td>15.610606</td>\n",
       "    </tr>\n",
       "    <tr>\n",
       "      <th>4</th>\n",
       "      <td>pr_sales_type_id</td>\n",
       "      <td>5.099075</td>\n",
       "    </tr>\n",
       "    <tr>\n",
       "      <th>5</th>\n",
       "      <td>st_type_loc_id</td>\n",
       "      <td>3.583805</td>\n",
       "    </tr>\n",
       "    <tr>\n",
       "      <th>6</th>\n",
       "      <td>fe_st_id</td>\n",
       "      <td>3.377191</td>\n",
       "    </tr>\n",
       "    <tr>\n",
       "      <th>7</th>\n",
       "      <td>fe_st_city_id</td>\n",
       "      <td>1.778352</td>\n",
       "    </tr>\n",
       "    <tr>\n",
       "      <th>8</th>\n",
       "      <td>fe_st_division_code</td>\n",
       "      <td>1.354877</td>\n",
       "    </tr>\n",
       "    <tr>\n",
       "      <th>9</th>\n",
       "      <td>st_type_size_id</td>\n",
       "      <td>1.091654</td>\n",
       "    </tr>\n",
       "    <tr>\n",
       "      <th>10</th>\n",
       "      <td>pr_uom_id</td>\n",
       "      <td>0.550761</td>\n",
       "    </tr>\n",
       "    <tr>\n",
       "      <th>11</th>\n",
       "      <td>st_type_format_id</td>\n",
       "      <td>0.054842</td>\n",
       "    </tr>\n",
       "    <tr>\n",
       "      <th>12</th>\n",
       "      <td>st_is_active</td>\n",
       "      <td>0.000000</td>\n",
       "    </tr>\n",
       "  </tbody>\n",
       "</table>\n",
       "</div>"
      ],
      "text/plain": [
       "             Feature Id  Importances\n",
       "0          fe_pr_sku_id    27.990605\n",
       "1          fe_pr_cat_id    21.522737\n",
       "2       fe_pr_subcat_id    17.985495\n",
       "3        fe_pr_group_id    15.610606\n",
       "4      pr_sales_type_id     5.099075\n",
       "5        st_type_loc_id     3.583805\n",
       "6              fe_st_id     3.377191\n",
       "7         fe_st_city_id     1.778352\n",
       "8   fe_st_division_code     1.354877\n",
       "9       st_type_size_id     1.091654\n",
       "10            pr_uom_id     0.550761\n",
       "11    st_type_format_id     0.054842\n",
       "12         st_is_active     0.000000"
      ]
     },
     "execution_count": 11,
     "metadata": {},
     "output_type": "execute_result"
    }
   ],
   "source": [
    "model_cbr_tune = CatBoostRegressor(loss_function='RMSE').fit(X_train, y_train, \n",
    "                                               verbose=False, plot=True)\n",
    "\n",
    "\n",
    "model_cbr_tune.get_feature_importance(prettified=True)"
   ]
  },
  {
   "cell_type": "code",
   "execution_count": 12,
   "metadata": {},
   "outputs": [],
   "source": [
    "# Определяем параметры перебора по связкам магазин-товар.\n",
    "a = set(test['fe_st_id'])\n",
    "b = set(test['fe_pr_sku_id'])"
   ]
  },
  {
   "cell_type": "code",
   "execution_count": 13,
   "metadata": {},
   "outputs": [
    {
     "name": "stderr",
     "output_type": "stream",
     "text": [
      "<timed exec>:15: FutureWarning: The behavior of DataFrame concatenation with empty or all-NA entries is deprecated. In a future version, this will no longer exclude empty or all-NA columns when determining the result dtypes. To retain the old behavior, exclude the relevant entries before the concat operation.\n"
     ]
    },
    {
     "name": "stdout",
     "output_type": "stream",
     "text": [
      "CPU times: total: 4.67 s\n",
      "Wall time: 23.5 s\n"
     ]
    }
   ],
   "source": [
    "%%time\n",
    "sales_submission_test = pd.DataFrame(columns=['st_id', 'pr_sku_id', 'date']) #Для вычисления метрики\n",
    "for i in a:\n",
    "    for j in b:\n",
    "        test_pred = test[(test['fe_st_id'] == i) & (test['fe_pr_sku_id'] == j)] # Выделяем часть датасета в разрезе нужной связки\n",
    "       \n",
    "        df_1 = pd.DataFrame(columns=['st_id', 'pr_sku_id', 'date', 'y']) # Резолютирующий датасет по предсказаниям\n",
    "\n",
    "        df_1['st_id'], df_1['pr_sku_id'], df_1['date'], df_1['y'] = \\\n",
    "            test_pred['fe_st_id'], test_pred['fe_pr_sku_id'], test_pred['ds'], test_pred['y']\n",
    "       \n",
    "        X_test = test_pred.drop(['y', 'ds'], axis=1) # Выделяем данные для предсказаний\n",
    "\n",
    "        df_1['target'] = model_cbr_tune.predict(X_test) # Предсказание\n",
    "\n",
    "        sales_submission_test = pd.concat([sales_submission_test, df_1], ignore_index=False)"
   ]
  },
  {
   "cell_type": "code",
   "execution_count": 14,
   "metadata": {},
   "outputs": [],
   "source": [
    "# sales_submission_test.groupby('date').count()"
   ]
  },
  {
   "cell_type": "code",
   "execution_count": 15,
   "metadata": {},
   "outputs": [
    {
     "data": {
      "text/plain": [
       "62.27562471770342"
      ]
     },
     "execution_count": 15,
     "metadata": {},
     "output_type": "execute_result"
    }
   ],
   "source": [
    "# Вычисляем метрику\n",
    "wape = 100 * (sales_submission_test['y'] - sales_submission_test['target']).abs().sum() / sales_submission_test['y'].sum()\n",
    "wape"
   ]
  },
  {
   "cell_type": "code",
   "execution_count": 16,
   "metadata": {},
   "outputs": [
    {
     "data": {
      "text/html": [
       "<div>\n",
       "<style scoped>\n",
       "    .dataframe tbody tr th:only-of-type {\n",
       "        vertical-align: middle;\n",
       "    }\n",
       "\n",
       "    .dataframe tbody tr th {\n",
       "        vertical-align: top;\n",
       "    }\n",
       "\n",
       "    .dataframe thead th {\n",
       "        text-align: right;\n",
       "    }\n",
       "</style>\n",
       "<table border=\"1\" class=\"dataframe\">\n",
       "  <thead>\n",
       "    <tr style=\"text-align: right;\">\n",
       "      <th></th>\n",
       "      <th>st_id</th>\n",
       "      <th>pr_sku_id</th>\n",
       "      <th>date</th>\n",
       "      <th>y</th>\n",
       "      <th>target</th>\n",
       "    </tr>\n",
       "  </thead>\n",
       "  <tbody>\n",
       "    <tr>\n",
       "      <th>0</th>\n",
       "      <td>157542</td>\n",
       "      <td>2049</td>\n",
       "      <td>2023-07-06</td>\n",
       "      <td>3094.0</td>\n",
       "      <td>2141.442126</td>\n",
       "    </tr>\n",
       "    <tr>\n",
       "      <th>1</th>\n",
       "      <td>157542</td>\n",
       "      <td>2049</td>\n",
       "      <td>2023-07-08</td>\n",
       "      <td>394.0</td>\n",
       "      <td>4137.182149</td>\n",
       "    </tr>\n",
       "    <tr>\n",
       "      <th>2</th>\n",
       "      <td>157542</td>\n",
       "      <td>2049</td>\n",
       "      <td>2023-07-05</td>\n",
       "      <td>3311.0</td>\n",
       "      <td>2141.442126</td>\n",
       "    </tr>\n",
       "    <tr>\n",
       "      <th>3</th>\n",
       "      <td>157542</td>\n",
       "      <td>2049</td>\n",
       "      <td>2023-07-05</td>\n",
       "      <td>826.0</td>\n",
       "      <td>4137.182149</td>\n",
       "    </tr>\n",
       "    <tr>\n",
       "      <th>4</th>\n",
       "      <td>157542</td>\n",
       "      <td>2049</td>\n",
       "      <td>2023-07-13</td>\n",
       "      <td>1047.0</td>\n",
       "      <td>4137.182149</td>\n",
       "    </tr>\n",
       "    <tr>\n",
       "      <th>...</th>\n",
       "      <td>...</td>\n",
       "      <td>...</td>\n",
       "      <td>...</td>\n",
       "      <td>...</td>\n",
       "      <td>...</td>\n",
       "    </tr>\n",
       "    <tr>\n",
       "      <th>41776</th>\n",
       "      <td>174687</td>\n",
       "      <td>2047</td>\n",
       "      <td>2023-07-06</td>\n",
       "      <td>231.0</td>\n",
       "      <td>230.670370</td>\n",
       "    </tr>\n",
       "    <tr>\n",
       "      <th>41777</th>\n",
       "      <td>174687</td>\n",
       "      <td>2047</td>\n",
       "      <td>2023-07-15</td>\n",
       "      <td>360.0</td>\n",
       "      <td>230.670370</td>\n",
       "    </tr>\n",
       "    <tr>\n",
       "      <th>41778</th>\n",
       "      <td>174687</td>\n",
       "      <td>2047</td>\n",
       "      <td>2023-07-03</td>\n",
       "      <td>31.0</td>\n",
       "      <td>68.178567</td>\n",
       "    </tr>\n",
       "    <tr>\n",
       "      <th>41779</th>\n",
       "      <td>174687</td>\n",
       "      <td>2047</td>\n",
       "      <td>2023-07-17</td>\n",
       "      <td>62.0</td>\n",
       "      <td>68.178567</td>\n",
       "    </tr>\n",
       "    <tr>\n",
       "      <th>41780</th>\n",
       "      <td>174687</td>\n",
       "      <td>2047</td>\n",
       "      <td>2023-07-12</td>\n",
       "      <td>360.0</td>\n",
       "      <td>230.670370</td>\n",
       "    </tr>\n",
       "  </tbody>\n",
       "</table>\n",
       "<p>41781 rows × 5 columns</p>\n",
       "</div>"
      ],
      "text/plain": [
       "        st_id pr_sku_id       date       y       target\n",
       "0      157542      2049 2023-07-06  3094.0  2141.442126\n",
       "1      157542      2049 2023-07-08   394.0  4137.182149\n",
       "2      157542      2049 2023-07-05  3311.0  2141.442126\n",
       "3      157542      2049 2023-07-05   826.0  4137.182149\n",
       "4      157542      2049 2023-07-13  1047.0  4137.182149\n",
       "...       ...       ...        ...     ...          ...\n",
       "41776  174687      2047 2023-07-06   231.0   230.670370\n",
       "41777  174687      2047 2023-07-15   360.0   230.670370\n",
       "41778  174687      2047 2023-07-03    31.0    68.178567\n",
       "41779  174687      2047 2023-07-17    62.0    68.178567\n",
       "41780  174687      2047 2023-07-12   360.0   230.670370\n",
       "\n",
       "[41781 rows x 5 columns]"
      ]
     },
     "execution_count": 16,
     "metadata": {},
     "output_type": "execute_result"
    }
   ],
   "source": [
    "# Посмотрим, что получилось\n",
    "sales_submission_test.reset_index(drop= True , inplace= True )\n",
    "sales_submission_test"
   ]
  },
  {
   "cell_type": "code",
   "execution_count": 17,
   "metadata": {},
   "outputs": [],
   "source": [
    "# Создаем нужный файл в соответствии с заданием и записываем его\n",
    "\n",
    "sales_submission_row = sales_submission_test.drop(['y'], axis=1)\n",
    "sales_submission_row.to_csv('sales_submission.csv')"
   ]
  },
  {
   "cell_type": "code",
   "execution_count": null,
   "metadata": {},
   "outputs": [],
   "source": []
  }
 ],
 "metadata": {
  "kernelspec": {
   "display_name": "Python 3",
   "language": "python",
   "name": "python3"
  },
  "language_info": {
   "codemirror_mode": {
    "name": "ipython",
    "version": 3
   },
   "file_extension": ".py",
   "mimetype": "text/x-python",
   "name": "python",
   "nbconvert_exporter": "python",
   "pygments_lexer": "ipython3",
   "version": "3.11.5"
  },
  "orig_nbformat": 4
 },
 "nbformat": 4,
 "nbformat_minor": 2
}
